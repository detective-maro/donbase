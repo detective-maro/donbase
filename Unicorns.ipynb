{
 "cells": [
  {
   "cell_type": "code",
   "execution_count": 4,
   "id": "f3e9dd9f",
   "metadata": {},
   "outputs": [
    {
     "name": "stdout",
     "output_type": "stream",
     "text": [
      "Failed to fetch data from the website. Status code: 403\n"
     ]
    }
   ],
   "source": [
    "import requests\n",
    "from bs4 import BeautifulSoup\n",
    "\n",
    "url = \"https://www.cbinsights.com/research-unicorn-companies\"\n",
    "\n",
    "# Send a GET request to the URL\n",
    "response = requests.get(url)\n",
    "\n",
    "# Check if the request was successful (status code 200)\n",
    "if response.status_code == 200:\n",
    "    # Parse the HTML content\n",
    "    soup = BeautifulSoup(response.content, \"html.parser\")\n",
    "    \n",
    "    # Find the table containing the unicorn companies data\n",
    "    table = soup.find(\"table\", class_=\"sortable-theme-bootstrap theme-bootstrap theme-autoloader\")\n",
    "    \n",
    "    # Ensure the table is found\n",
    "    if table:\n",
    "        # Initialize lists to store extracted data\n",
    "        unicorns_data = []\n",
    "\n",
    "        # Loop through each row in the table (skipping the header row)\n",
    "        for row in table.find_all(\"tr\")[1:]:\n",
    "            # Extract data from each column\n",
    "            columns = row.find_all(\"td\")\n",
    "            \n",
    "            # Ensure the expected number of columns is found\n",
    "            if len(columns) == 7:\n",
    "                # Extract required fields: URL, Company, Value, Date, Country, City, Industry, VCs\n",
    "                company_url = columns[0].find(\"a\")[\"href\"]\n",
    "                company_name = columns[0].text.strip()\n",
    "                value = columns[1].text.strip()\n",
    "                date = columns[2].text.strip()\n",
    "                country = columns[3].text.strip()\n",
    "                city = columns[4].text.strip()\n",
    "                industry = columns[5].text.strip()\n",
    "                vcs = columns[6].text.strip()\n",
    "\n",
    "                # Append extracted data to the list\n",
    "                unicorns_data.append({\n",
    "                    \"URL\": company_url,\n",
    "                    \"Company\": company_name,\n",
    "                    \"Value\": value,\n",
    "                    \"Date\": date,\n",
    "                    \"Country\": country,\n",
    "                    \"City\": city,\n",
    "                    \"Industry\": industry,\n",
    "                    \"VCs\": vcs\n",
    "                })\n",
    "\n",
    "        # Check if any data was extracted\n",
    "        if unicorns_data:\n",
    "            # Print the extracted data\n",
    "            for unicorn in unicorns_data:\n",
    "                print(unicorn)\n",
    "        else:\n",
    "            print(\"No unicorn data found on the webpage.\")\n",
    "    else:\n",
    "        print(\"Failed to find the unicorn data table on the webpage.\")\n",
    "else:\n",
    "    print(\"Failed to fetch data from the website. Status code:\", response.status_code)\n"
   ]
  },
  {
   "cell_type": "code",
   "execution_count": null,
   "id": "7c5b3df3",
   "metadata": {},
   "outputs": [],
   "source": []
  }
 ],
 "metadata": {
  "kernelspec": {
   "display_name": "Python 3 (ipykernel)",
   "language": "python",
   "name": "python3"
  },
  "language_info": {
   "codemirror_mode": {
    "name": "ipython",
    "version": 3
   },
   "file_extension": ".py",
   "mimetype": "text/x-python",
   "name": "python",
   "nbconvert_exporter": "python",
   "pygments_lexer": "ipython3",
   "version": "3.9.7"
  }
 },
 "nbformat": 4,
 "nbformat_minor": 5
}
