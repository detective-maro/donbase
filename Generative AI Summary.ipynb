{
 "cells": [
  {
   "cell_type": "code",
   "execution_count": null,
   "id": "57ed8e1d",
   "metadata": {},
   "outputs": [],
   "source": [
    "import requests\n",
    "\n",
    "# Replace 'YOUR_API_KEY' with your actual Perplexity AI API key\n",
    "YOUR_API_KEY = \"YOUR_API_KEY\"\n",
    "\n",
    "# The base URL for the Perplexity AI API\n",
    "BASE_URL = \"https://api.perplexity.ai\"\n",
    "\n",
    "# The headers to send with the request\n",
    "headers = {\n",
    "    \"Authorization\": f\"Bearer {YOUR_API_KEY}\"\n",
    "}\n",
    "\n",
    "# The data payload for the API request, including the question\n",
    "def ask_question(question):\n",
    "    data = {\n",
    "        \"model\": \"mistral-7b-instruct\",  # Specify the model you want to use\n",
    "        \"messages\": [\n",
    "            {\n",
    "                \"role\": \"system\",\n",
    "                \"content\": \"You are an artificial intelligence assistant and you need to engage in a helpful, detailed, polite conversation with a user.\"\n",
    "            },\n",
    "            {\n",
    "                \"role\": \"user\",\n",
    "                \"content\": question\n",
    "            },\n",
    "        ]\n",
    "    }\n",
    "\n",
    "    # Make the API request\n",
    "    response = requests.post(f\"{BASE_URL}/chat/completions.create\", json=data, headers=headers)\n",
    "\n",
    "    # Check if the request was successful\n",
    "    if response.status_code == 200:\n",
    "        # Parse the response content\n",
    "        response_data = response.json()\n",
    "        # Extract the message content from the response\n",
    "        return response_data['choices'][0]['message']['content']\n",
    "    else:\n",
    "        # Handle errors\n",
    "        return f\"Error: {response.status_code} - {response.text}\"\n",
    "\n",
    "# Example usage\n",
    "if __name__ == \"__main__\":\n",
    "    # Replace 'your_summary_request' with your actual summary request\n",
    "    your_summary_request = \"Provide a summary of what happened today based on the parameters I passed through.\"\n",
    "    summary = ask_question(your_summary_request)\n",
    "    print(summary)"
   ]
  }
 ],
 "metadata": {
  "kernelspec": {
   "display_name": "Python 3 (ipykernel)",
   "language": "python",
   "name": "python3"
  },
  "language_info": {
   "codemirror_mode": {
    "name": "ipython",
    "version": 3
   },
   "file_extension": ".py",
   "mimetype": "text/x-python",
   "name": "python",
   "nbconvert_exporter": "python",
   "pygments_lexer": "ipython3",
   "version": "3.9.7"
  }
 },
 "nbformat": 4,
 "nbformat_minor": 5
}
